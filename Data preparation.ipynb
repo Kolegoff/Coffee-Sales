{
 "cells": [
  {
   "cell_type": "markdown",
   "id": "92ddc8f7-2f49-4fc1-9c50-0489293cdedb",
   "metadata": {},
   "source": [
    "Install and import libraries for further work with datasets and data"
   ]
  },
  {
   "cell_type": "code",
   "execution_count": 1,
   "id": "ba81ae1a-d54b-47a9-ab95-70379f54b1fd",
   "metadata": {},
   "outputs": [],
   "source": [
    "import pandas as pd\n",
    "import matplotlib.pyplot as plt\n"
   ]
  },
  {
   "cell_type": "markdown",
   "id": "b05846b4-e09a-40c9-a021-a1e2311ba7f9",
   "metadata": {},
   "source": [
    "We have 2 datasets that need to be merged into one. "
   ]
  },
  {
   "cell_type": "code",
   "execution_count": 4,
   "id": "7d14a51d-3112-46b7-adf3-c77811b03f07",
   "metadata": {},
   "outputs": [],
   "source": [
    "df1 = pd.read_csv(\"index_1.csv\")\n",
    "df2 = pd.read_csv(\"index_2.csv\")\n",
    "df_combined = pd.concat([df1, df2], ignore_index=True)\n",
    "df_combined.to_csv(\"coffee-sales.csv\", index=False)"
   ]
  },
  {
   "cell_type": "markdown",
   "id": "02ec4838-a7ec-48a8-a8b0-929f6b140f4f",
   "metadata": {},
   "source": [
    "Convert a column with combined date and time into two columns separately"
   ]
  },
  {
   "cell_type": "code",
   "execution_count": 19,
   "id": "b92e56b9-6505-4807-ba49-85329cd59a9d",
   "metadata": {},
   "outputs": [],
   "source": [
    "df = pd.read_csv(\"coffee-sales.csv\")\n",
    "if 'datetime' in df.columns:\n",
    "    df['datetime'] = pd.to_datetime(df['datetime'], errors='coerce', utc=True)\n",
    "    df['date_only'] = df['datetime'].dt.date\n",
    "    df['time_only'] = df['datetime'].dt.strftime('%H:%M:%S')\n",
    "    df = df.drop(columns=['datetime'])\n",
    "    df.to_csv(\"coffee-sales.csv\", index=False)"
   ]
  },
  {
   "cell_type": "markdown",
   "id": "c40a0234-7f42-4c62-a05e-6c2cfb6133b2",
   "metadata": {},
   "source": [
    "Delete colums 'date' and 'card'"
   ]
  },
  {
   "cell_type": "code",
   "execution_count": 20,
   "id": "e830632b-7eca-4b5d-bd15-e62c104b46a0",
   "metadata": {},
   "outputs": [],
   "source": [
    "df = pd.read_csv(\"coffee-sales.csv\")\n",
    "df = df.drop(columns=['date','card'])\n",
    "df.to_csv(\"coffee-sales.csv\", index=False)"
   ]
  }
 ],
 "metadata": {
  "kernelspec": {
   "display_name": "Python 3 (ipykernel)",
   "language": "python",
   "name": "python3"
  },
  "language_info": {
   "codemirror_mode": {
    "name": "ipython",
    "version": 3
   },
   "file_extension": ".py",
   "mimetype": "text/x-python",
   "name": "python",
   "nbconvert_exporter": "python",
   "pygments_lexer": "ipython3",
   "version": "3.12.4"
  }
 },
 "nbformat": 4,
 "nbformat_minor": 5
}
